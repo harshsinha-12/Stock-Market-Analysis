{
  "cells": [
    {
      "cell_type": "code",
      "execution_count": 10,
      "metadata": {
        "colab": {
          "base_uri": "https://localhost:8080/"
        },
        "id": "K6RLUlOLqh5V",
        "outputId": "2c0c947a-e47f-4fc9-e4ac-420b56710d35"
      },
      "outputs": [
        {
          "data": {
            "text/plain": [
              "{'Gensol Engineering': 12.6869697510336,\n",
              " 'Reliance Industries': 12.491724371374884,\n",
              " 'KPIT Technology': 10.804581598194266,\n",
              " 'Jio Fin': 6.396240109007594,\n",
              " 'Aditya Vision': 6.257776235804892,\n",
              " 'Varun Beverages': 6.081995426789987,\n",
              " 'Tata Motors': 5.221451553648583,\n",
              " 'Tata Power': 4.882196578242494,\n",
              " 'Olectra Greentech': 4.421449898527623,\n",
              " 'Adani Green Energy': 4.302521147627965,\n",
              " 'KEI Industries': 3.754698028158506,\n",
              " 'Titan Company': 3.474563881964257,\n",
              " 'Adani Enterprises': 3.437768952192634,\n",
              " 'KPI Green Energy': 3.228038436983586,\n",
              " 'APL Apollo': 2.8728796055388566,\n",
              " 'Angel One': 2.772389551426712,\n",
              " 'Zomato': 2.4891754330004527,\n",
              " 'Mahindra & Mahindra': 2.3993810866653207,\n",
              " 'Praj Industries': 1.530370188507636,\n",
              " 'BSE': 0.49382816531014995}"
            ]
          },
          "execution_count": 10,
          "metadata": {},
          "output_type": "execute_result"
        }
      ],
      "source": [
        "# - Market Capitalization (in billions)\n",
        "# - P/E Ratio (price to earnings)\n",
        "# - Estimated Growth Rate (next 5 years, annual)\n",
        "# - Sector\n",
        "\n",
        "\n",
        "stocks_data = {\n",
        "    \"Adani Enterprises\": {\"Market Cap\": 371298, \"P/E Ratio\": 99, \"Growth Rate\": 13, \"Sector\": \"Conglomerate\"},\n",
        "    \"Adani Green Energy\": {\"Market Cap\": 298749, \"P/E Ratio\": 182, \"Growth Rate\": 25, \"Sector\": \"Renewable Energy\"},\n",
        "    \"Aditya Vision\": {\"Market Cap\": 4171, \"P/E Ratio\": 55, \"Growth Rate\": 59, \"Sector\": \"Retail\"},\n",
        "    \"Angel One\": {\"Market Cap\": 23496, \"P/E Ratio\": 22, \"Growth Rate\": 25, \"Sector\": \"Financial Services\"},\n",
        "    \"APL Apollo\": {\"Market Cap\": 41573, \"P/E Ratio\": 54, \"Growth Rate\": 25, \"Sector\": \"Manufacturing\"},\n",
        "    \"BSE\": {\"Market Cap\": 31807, \"P/E Ratio\": 78, \"Growth Rate\": 3, \"Sector\": \"Financial Services\"},\n",
        "    \"Gensol Engineering\": {\"Market Cap\": 1160, \"P/E Ratio\": 81, \"Growth Rate\": 120, \"Sector\": \"Engineering\"},\n",
        "    \"Jio Fin\" : {\"Market Cap\": 200160, \"P/E Ratio\": 7962, \"Growth Rate\": 50, \"Sector\": \"Engineering\"},\n",
        "    \"KEI Industries\": {\"Market Cap\": 29121, \"P/E Ratio\": 52, \"Growth Rate\": 34, \"Sector\": \"Electrical Equipment\"},\n",
        "    \"KPI Green Energy\": {\"Market Cap\": 10417, \"P/E Ratio\": 70, \"Growth Rate\": 30, \"Sector\": \"Renewable Energy\"},\n",
        "    \"KPIT Technology\": {\"Market Cap\": 42720, \"P/E Ratio\": 79, \"Growth Rate\": 100, \"Sector\": \"Technology\"},\n",
        "    \"Mahindra & Mahindra\": {\"Market Cap\": 241531, \"P/E Ratio\": 21, \"Growth Rate\": 10, \"Sector\": \"Automobile\"},\n",
        "    \"Olectra Greentech\": {\"Market Cap\": 15999, \"P/E Ratio\": 177, \"Growth Rate\": 41, \"Sector\": \"Electric Vehicles\"},\n",
        "    \"Praj Industries\": {\"Market Cap\": 9170, \"P/E Ratio\": 32, \"Growth Rate\": 14, \"Sector\": \"Engineering\"},\n",
        "    \"Reliance Industries\": {\"Market Cap\": 2000000, \"P/E Ratio\": 28, \"Growth Rate\": 13, \"Sector\": \"Conglomerate\"},\n",
        "    \"Tata Motors\": {\"Market Cap\": 350000, \"P/E Ratio\": 17, \"Growth Rate\": 31, \"Sector\": \"Automobile\"},\n",
        "    \"Tata Power\": {\"Market Cap\": 117891, \"P/E Ratio\": 34, \"Growth Rate\": 40, \"Sector\": \"Power\"},\n",
        "    \"Titan Company\": {\"Market Cap\": 320890, \"P/E Ratio\": 93, \"Growth Rate\": 16, \"Sector\": \"Retail\"},\n",
        "    \"Varun Beverages\": {\"Market Cap\": 181649, \"P/E Ratio\": 88, \"Growth Rate\": 48, \"Sector\": \"Food & Beverage\"},\n",
        "    \"Zomato\": {\"Market Cap\": 143630, \"P/E Ratio\": 422, \"Growth Rate\": 16, \"Sector\": \"Technology\"}\n",
        "}\n",
        "\n",
        "\n",
        "# Calculate total market cap for normalization\n",
        "total_market_cap = sum(stock[\"Market Cap\"] for stock in stocks_data.values())\n",
        "\n",
        "# Assign weight based on a mix of market cap and growth rate, also considering sector diversification\n",
        "weights = {}\n",
        "for name, data in stocks_data.items():\n",
        "    # Simple weight formula: 70% market cap + 30% growth rate, normalized by total market cap\n",
        "    weight = (0.7 * (data[\"Market Cap\"] / total_market_cap) + 0.3 * (data[\"Growth Rate\"] / 100))\n",
        "    weights[name] = weight\n",
        "\n",
        "\n",
        "total_weight = sum(weights.values())\n",
        "normalized_weights = {name: (weight / total_weight) * 100 for name, weight in weights.items()}\n",
        "\n",
        "sorted_weights = dict(sorted(normalized_weights.items(), key=lambda item: item[1], reverse=True))\n",
        "\n",
        "sorted_weights\n"
      ]
    },
    {
      "cell_type": "code",
      "execution_count": 12,
      "metadata": {
        "colab": {
          "base_uri": "https://localhost:8080/"
        },
        "id": "Sr99XHuHrXlf",
        "outputId": "fb0ea852-e33e-49aa-8147-11aa5f75c408"
      },
      "outputs": [
        {
          "data": {
            "text/plain": [
              "{'PPFAS': 32.497216350854885,\n",
              " 'Quant SmallCap': 15.094612358703094,\n",
              " 'Quant ELSS': 10.385161616698161,\n",
              " 'Quant Momentum': 7.933722591353385,\n",
              " 'Quant Infra': 7.828537447063098,\n",
              " 'SBI Health': 6.132470779882309,\n",
              " 'HDFC Def': 5.720706205427649,\n",
              " 'MO Microcap': 5.133453354516142,\n",
              " 'Quant Consumption': 4.984117577995691,\n",
              " 'Quant PSU': 4.290001717505576}"
            ]
          },
          "execution_count": 12,
          "metadata": {},
          "output_type": "execute_result"
        }
      ],
      "source": [
        "stocks_data = {\n",
        "    \"Quant SmallCap\": {\"Market Cap\": 15663, \"P/E Ratio\": 24, \"Growth Rate\": 38, \"Sector\": \"Conglomerate\"},\n",
        "    \"PPFAS\": {\"Market Cap\": 55034, \"P/E Ratio\": 19, \"Growth Rate\": 25, \"Sector\": \"Renewable Energy\"},\n",
        "    \"MO Microcap\": {\"Market Cap\": 796, \"P/E Ratio\": 40, \"Growth Rate\": 25, \"Sector\": \"Retail\"},\n",
        "    \"Quant Momentum\" : {\"Market Cap\": 719, \"P/E Ratio\": 24, \"Growth Rate\": 40, \"Sector\": \"Engineering\"},\n",
        "    \"Quant PSU\": {\"Market Cap\": 1000, \"P/E Ratio\": 30, \"Growth Rate\": 20, \"Sector\": \"Financial Services\"},\n",
        "    \"Quant Infra\": {\"Market Cap\": 1636, \"P/E Ratio\": 21, \"Growth Rate\": 37, \"Sector\": \"Manufacturing\"},\n",
        "    \"Quant ELSS\": {\"Market Cap\": 7829, \"P/E Ratio\": 19, \"Growth Rate\": 34, \"Sector\": \"Financial Services\"},\n",
        "    \"HDFC Def\": {\"Market Cap\": 1960, \"P/E Ratio\": 48, \"Growth Rate\": 25, \"Sector\": \"Engineering\"},\n",
        "    \"Quant Consumption\" : {\"Market Cap\": 500, \"P/E Ratio\": 25, \"Growth Rate\": 25, \"Sector\": \"Engineering\"},\n",
        "    \"SBI Health\" : {\"Market Cap\": 2401, \"P/E Ratio\": 48, \"Growth Rate\": 26, \"Sector\": \"Engineering\"},\n",
        "}\n",
        "\n",
        "total_market_cap = sum(stock[\"Market Cap\"] for stock in stocks_data.values())\n",
        "\n",
        "weights = {}\n",
        "for name, data in stocks_data.items():\n",
        "    weight = (0.7 * (data[\"Market Cap\"] / total_market_cap) + 0.3 * (data[\"Growth Rate\"] / 100))\n",
        "    weights[name] = weight\n",
        "\n",
        "total_weight = sum(weights.values())\n",
        "normalized_weights = {name: (weight / total_weight) * 100 for name, weight in weights.items()}\n",
        "\n",
        "sorted_weights = dict(sorted(normalized_weights.items(), key=lambda item: item[1], reverse=True))\n",
        "\n",
        "sorted_weights\n"
      ]
    },
    {
      "cell_type": "code",
      "execution_count": null,
      "metadata": {
        "id": "tW9adUliJDwB"
      },
      "outputs": [],
      "source": []
    }
  ],
  "metadata": {
    "colab": {
      "provenance": []
    },
    "kernelspec": {
      "display_name": "Python 3",
      "name": "python3"
    },
    "language_info": {
      "name": "python"
    }
  },
  "nbformat": 4,
  "nbformat_minor": 0
}
